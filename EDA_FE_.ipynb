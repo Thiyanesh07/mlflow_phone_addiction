{
 "cells": [
  {
   "cell_type": "code",
   "execution_count": 2,
   "id": "f0bc2806",
   "metadata": {},
   "outputs": [],
   "source": [
    "import pandas as pd\n",
    "import numpy as np\n",
    "\n",
    "df = pd.read_csv('teen_phone_addiction_dataset.csv')"
   ]
  },
  {
   "cell_type": "code",
   "execution_count": 3,
   "id": "5116fb1b",
   "metadata": {},
   "outputs": [
    {
     "data": {
      "text/html": [
       "<div>\n",
       "<style scoped>\n",
       "    .dataframe tbody tr th:only-of-type {\n",
       "        vertical-align: middle;\n",
       "    }\n",
       "\n",
       "    .dataframe tbody tr th {\n",
       "        vertical-align: top;\n",
       "    }\n",
       "\n",
       "    .dataframe thead th {\n",
       "        text-align: right;\n",
       "    }\n",
       "</style>\n",
       "<table border=\"1\" class=\"dataframe\">\n",
       "  <thead>\n",
       "    <tr style=\"text-align: right;\">\n",
       "      <th></th>\n",
       "      <th>ID</th>\n",
       "      <th>Name</th>\n",
       "      <th>Age</th>\n",
       "      <th>Gender</th>\n",
       "      <th>Location</th>\n",
       "      <th>School_Grade</th>\n",
       "      <th>Daily_Usage_Hours</th>\n",
       "      <th>Sleep_Hours</th>\n",
       "      <th>Academic_Performance</th>\n",
       "      <th>Social_Interactions</th>\n",
       "      <th>...</th>\n",
       "      <th>Screen_Time_Before_Bed</th>\n",
       "      <th>Phone_Checks_Per_Day</th>\n",
       "      <th>Apps_Used_Daily</th>\n",
       "      <th>Time_on_Social_Media</th>\n",
       "      <th>Time_on_Gaming</th>\n",
       "      <th>Time_on_Education</th>\n",
       "      <th>Phone_Usage_Purpose</th>\n",
       "      <th>Family_Communication</th>\n",
       "      <th>Weekend_Usage_Hours</th>\n",
       "      <th>Addiction_Level</th>\n",
       "    </tr>\n",
       "  </thead>\n",
       "  <tbody>\n",
       "    <tr>\n",
       "      <th>0</th>\n",
       "      <td>1</td>\n",
       "      <td>Shannon Francis</td>\n",
       "      <td>13</td>\n",
       "      <td>Female</td>\n",
       "      <td>Hansonfort</td>\n",
       "      <td>9th</td>\n",
       "      <td>4.0</td>\n",
       "      <td>6.1</td>\n",
       "      <td>78</td>\n",
       "      <td>5</td>\n",
       "      <td>...</td>\n",
       "      <td>1.4</td>\n",
       "      <td>86</td>\n",
       "      <td>19</td>\n",
       "      <td>3.6</td>\n",
       "      <td>1.7</td>\n",
       "      <td>1.2</td>\n",
       "      <td>Browsing</td>\n",
       "      <td>4</td>\n",
       "      <td>8.7</td>\n",
       "      <td>10.0</td>\n",
       "    </tr>\n",
       "    <tr>\n",
       "      <th>1</th>\n",
       "      <td>2</td>\n",
       "      <td>Scott Rodriguez</td>\n",
       "      <td>17</td>\n",
       "      <td>Female</td>\n",
       "      <td>Theodorefort</td>\n",
       "      <td>7th</td>\n",
       "      <td>5.5</td>\n",
       "      <td>6.5</td>\n",
       "      <td>70</td>\n",
       "      <td>5</td>\n",
       "      <td>...</td>\n",
       "      <td>0.9</td>\n",
       "      <td>96</td>\n",
       "      <td>9</td>\n",
       "      <td>1.1</td>\n",
       "      <td>4.0</td>\n",
       "      <td>1.8</td>\n",
       "      <td>Browsing</td>\n",
       "      <td>2</td>\n",
       "      <td>5.3</td>\n",
       "      <td>10.0</td>\n",
       "    </tr>\n",
       "    <tr>\n",
       "      <th>2</th>\n",
       "      <td>3</td>\n",
       "      <td>Adrian Knox</td>\n",
       "      <td>13</td>\n",
       "      <td>Other</td>\n",
       "      <td>Lindseystad</td>\n",
       "      <td>11th</td>\n",
       "      <td>5.8</td>\n",
       "      <td>5.5</td>\n",
       "      <td>93</td>\n",
       "      <td>8</td>\n",
       "      <td>...</td>\n",
       "      <td>0.5</td>\n",
       "      <td>137</td>\n",
       "      <td>8</td>\n",
       "      <td>0.3</td>\n",
       "      <td>1.5</td>\n",
       "      <td>0.4</td>\n",
       "      <td>Education</td>\n",
       "      <td>6</td>\n",
       "      <td>5.7</td>\n",
       "      <td>9.2</td>\n",
       "    </tr>\n",
       "    <tr>\n",
       "      <th>3</th>\n",
       "      <td>4</td>\n",
       "      <td>Brittany Hamilton</td>\n",
       "      <td>18</td>\n",
       "      <td>Female</td>\n",
       "      <td>West Anthony</td>\n",
       "      <td>12th</td>\n",
       "      <td>3.1</td>\n",
       "      <td>3.9</td>\n",
       "      <td>78</td>\n",
       "      <td>8</td>\n",
       "      <td>...</td>\n",
       "      <td>1.4</td>\n",
       "      <td>128</td>\n",
       "      <td>7</td>\n",
       "      <td>3.1</td>\n",
       "      <td>1.6</td>\n",
       "      <td>0.8</td>\n",
       "      <td>Social Media</td>\n",
       "      <td>8</td>\n",
       "      <td>3.0</td>\n",
       "      <td>9.8</td>\n",
       "    </tr>\n",
       "    <tr>\n",
       "      <th>4</th>\n",
       "      <td>5</td>\n",
       "      <td>Steven Smith</td>\n",
       "      <td>14</td>\n",
       "      <td>Other</td>\n",
       "      <td>Port Lindsaystad</td>\n",
       "      <td>9th</td>\n",
       "      <td>2.5</td>\n",
       "      <td>6.7</td>\n",
       "      <td>56</td>\n",
       "      <td>4</td>\n",
       "      <td>...</td>\n",
       "      <td>1.0</td>\n",
       "      <td>96</td>\n",
       "      <td>20</td>\n",
       "      <td>2.6</td>\n",
       "      <td>0.9</td>\n",
       "      <td>1.1</td>\n",
       "      <td>Gaming</td>\n",
       "      <td>10</td>\n",
       "      <td>3.7</td>\n",
       "      <td>8.6</td>\n",
       "    </tr>\n",
       "  </tbody>\n",
       "</table>\n",
       "<p>5 rows × 25 columns</p>\n",
       "</div>"
      ],
      "text/plain": [
       "   ID               Name  Age  Gender          Location School_Grade  \\\n",
       "0   1    Shannon Francis   13  Female        Hansonfort          9th   \n",
       "1   2    Scott Rodriguez   17  Female      Theodorefort          7th   \n",
       "2   3        Adrian Knox   13   Other       Lindseystad         11th   \n",
       "3   4  Brittany Hamilton   18  Female      West Anthony         12th   \n",
       "4   5       Steven Smith   14   Other  Port Lindsaystad          9th   \n",
       "\n",
       "   Daily_Usage_Hours  Sleep_Hours  Academic_Performance  Social_Interactions  \\\n",
       "0                4.0          6.1                    78                    5   \n",
       "1                5.5          6.5                    70                    5   \n",
       "2                5.8          5.5                    93                    8   \n",
       "3                3.1          3.9                    78                    8   \n",
       "4                2.5          6.7                    56                    4   \n",
       "\n",
       "   ...  Screen_Time_Before_Bed  Phone_Checks_Per_Day  Apps_Used_Daily  \\\n",
       "0  ...                     1.4                    86               19   \n",
       "1  ...                     0.9                    96                9   \n",
       "2  ...                     0.5                   137                8   \n",
       "3  ...                     1.4                   128                7   \n",
       "4  ...                     1.0                    96               20   \n",
       "\n",
       "   Time_on_Social_Media  Time_on_Gaming  Time_on_Education  \\\n",
       "0                   3.6             1.7                1.2   \n",
       "1                   1.1             4.0                1.8   \n",
       "2                   0.3             1.5                0.4   \n",
       "3                   3.1             1.6                0.8   \n",
       "4                   2.6             0.9                1.1   \n",
       "\n",
       "   Phone_Usage_Purpose  Family_Communication  Weekend_Usage_Hours  \\\n",
       "0             Browsing                     4                  8.7   \n",
       "1             Browsing                     2                  5.3   \n",
       "2            Education                     6                  5.7   \n",
       "3         Social Media                     8                  3.0   \n",
       "4               Gaming                    10                  3.7   \n",
       "\n",
       "   Addiction_Level  \n",
       "0             10.0  \n",
       "1             10.0  \n",
       "2              9.2  \n",
       "3              9.8  \n",
       "4              8.6  \n",
       "\n",
       "[5 rows x 25 columns]"
      ]
     },
     "execution_count": 3,
     "metadata": {},
     "output_type": "execute_result"
    }
   ],
   "source": [
    "df.head()"
   ]
  },
  {
   "cell_type": "code",
   "execution_count": 4,
   "id": "2747c480",
   "metadata": {},
   "outputs": [
    {
     "data": {
      "text/plain": [
       "(3000, 25)"
      ]
     },
     "execution_count": 4,
     "metadata": {},
     "output_type": "execute_result"
    }
   ],
   "source": [
    "df.shape"
   ]
  },
  {
   "cell_type": "code",
   "execution_count": 5,
   "id": "05506a2d",
   "metadata": {},
   "outputs": [
    {
     "data": {
      "text/plain": [
       "Index(['ID', 'Name', 'Age', 'Gender', 'Location', 'School_Grade',\n",
       "       'Daily_Usage_Hours', 'Sleep_Hours', 'Academic_Performance',\n",
       "       'Social_Interactions', 'Exercise_Hours', 'Anxiety_Level',\n",
       "       'Depression_Level', 'Self_Esteem', 'Parental_Control',\n",
       "       'Screen_Time_Before_Bed', 'Phone_Checks_Per_Day', 'Apps_Used_Daily',\n",
       "       'Time_on_Social_Media', 'Time_on_Gaming', 'Time_on_Education',\n",
       "       'Phone_Usage_Purpose', 'Family_Communication', 'Weekend_Usage_Hours',\n",
       "       'Addiction_Level'],\n",
       "      dtype='object')"
      ]
     },
     "execution_count": 5,
     "metadata": {},
     "output_type": "execute_result"
    }
   ],
   "source": [
    "df.columns"
   ]
  },
  {
   "cell_type": "code",
   "execution_count": 6,
   "id": "2fcabb04",
   "metadata": {},
   "outputs": [
    {
     "data": {
      "text/plain": [
       "ID                          int64\n",
       "Name                       object\n",
       "Age                         int64\n",
       "Gender                     object\n",
       "Location                   object\n",
       "School_Grade               object\n",
       "Daily_Usage_Hours         float64\n",
       "Sleep_Hours               float64\n",
       "Academic_Performance        int64\n",
       "Social_Interactions         int64\n",
       "Exercise_Hours            float64\n",
       "Anxiety_Level               int64\n",
       "Depression_Level            int64\n",
       "Self_Esteem                 int64\n",
       "Parental_Control            int64\n",
       "Screen_Time_Before_Bed    float64\n",
       "Phone_Checks_Per_Day        int64\n",
       "Apps_Used_Daily             int64\n",
       "Time_on_Social_Media      float64\n",
       "Time_on_Gaming            float64\n",
       "Time_on_Education         float64\n",
       "Phone_Usage_Purpose        object\n",
       "Family_Communication        int64\n",
       "Weekend_Usage_Hours       float64\n",
       "Addiction_Level           float64\n",
       "dtype: object"
      ]
     },
     "execution_count": 6,
     "metadata": {},
     "output_type": "execute_result"
    }
   ],
   "source": [
    "df.dtypes"
   ]
  },
  {
   "cell_type": "code",
   "execution_count": 7,
   "id": "9014864d",
   "metadata": {},
   "outputs": [
    {
     "data": {
      "text/plain": [
       "10.0"
      ]
     },
     "execution_count": 7,
     "metadata": {},
     "output_type": "execute_result"
    }
   ],
   "source": [
    "df['Addiction_Level'].max()"
   ]
  },
  {
   "cell_type": "code",
   "execution_count": 8,
   "id": "3c8a0f6b",
   "metadata": {},
   "outputs": [
    {
     "data": {
      "text/plain": [
       "1.0"
      ]
     },
     "execution_count": 8,
     "metadata": {},
     "output_type": "execute_result"
    }
   ],
   "source": [
    "df['Addiction_Level'].min()"
   ]
  },
  {
   "cell_type": "code",
   "execution_count": 9,
   "id": "68b892bf",
   "metadata": {},
   "outputs": [
    {
     "name": "stdout",
     "output_type": "stream",
     "text": [
      "Index(['Name', 'Gender', 'Location', 'School_Grade', 'Phone_Usage_Purpose'], dtype='object')\n"
     ]
    }
   ],
   "source": [
    "df_object = df.select_dtypes(include=['object'])\n",
    "print(df_object.columns)"
   ]
  },
  {
   "cell_type": "code",
   "execution_count": 10,
   "id": "facb2ab6",
   "metadata": {},
   "outputs": [
    {
     "data": {
      "text/plain": [
       "ID                        0\n",
       "Name                      0\n",
       "Age                       0\n",
       "Gender                    0\n",
       "Location                  0\n",
       "School_Grade              0\n",
       "Daily_Usage_Hours         0\n",
       "Sleep_Hours               0\n",
       "Academic_Performance      0\n",
       "Social_Interactions       0\n",
       "Exercise_Hours            0\n",
       "Anxiety_Level             0\n",
       "Depression_Level          0\n",
       "Self_Esteem               0\n",
       "Parental_Control          0\n",
       "Screen_Time_Before_Bed    0\n",
       "Phone_Checks_Per_Day      0\n",
       "Apps_Used_Daily           0\n",
       "Time_on_Social_Media      0\n",
       "Time_on_Gaming            0\n",
       "Time_on_Education         0\n",
       "Phone_Usage_Purpose       0\n",
       "Family_Communication      0\n",
       "Weekend_Usage_Hours       0\n",
       "Addiction_Level           0\n",
       "dtype: int64"
      ]
     },
     "execution_count": 10,
     "metadata": {},
     "output_type": "execute_result"
    }
   ],
   "source": [
    "df.isna().sum()"
   ]
  },
  {
   "cell_type": "code",
   "execution_count": 11,
   "id": "c91ac061",
   "metadata": {},
   "outputs": [
    {
     "data": {
      "text/plain": [
       "0"
      ]
     },
     "execution_count": 11,
     "metadata": {},
     "output_type": "execute_result"
    }
   ],
   "source": [
    "df.duplicated().sum()"
   ]
  },
  {
   "cell_type": "code",
   "execution_count": 12,
   "id": "e940c24f",
   "metadata": {},
   "outputs": [],
   "source": [
    "df = pd.read_csv('cleaned_balanced_dataset.csv')"
   ]
  },
  {
   "cell_type": "code",
   "execution_count": 16,
   "id": "59fc728a",
   "metadata": {},
   "outputs": [],
   "source": [
    "numeric_cols = df.select_dtypes(include = np.number)\n"
   ]
  },
  {
   "cell_type": "code",
   "execution_count": 13,
   "id": "32f3d90e",
   "metadata": {},
   "outputs": [
    {
     "data": {
      "text/plain": [
       "Index(['Name', 'Gender', 'Location', 'School_Grade', 'Phone_Usage_Purpose'], dtype='object')"
      ]
     },
     "execution_count": 13,
     "metadata": {},
     "output_type": "execute_result"
    }
   ],
   "source": [
    "cat_cols = df.select_dtypes(include=np.object_)\n",
    "cat_cols.columns"
   ]
  },
  {
   "cell_type": "code",
   "execution_count": 14,
   "id": "6f2c77cf",
   "metadata": {},
   "outputs": [
    {
     "name": "stdout",
     "output_type": "stream",
     "text": [
      "   Name  Gender  Location  School_Grade  Phone_Usage_Purpose\n",
      "0   117       1      1133             1                    0\n",
      "1   951       1       453             5                    2\n",
      "2  1200       2       645             0                    4\n",
      "3   222       2       723             2                    2\n",
      "4   964       1        16             2                    4\n"
     ]
    }
   ],
   "source": [
    "from sklearn.preprocessing import LabelEncoder\n",
    "\n",
    "cat_cols = df.select_dtypes(include=['object']).columns  \n",
    "df_encoded = df[cat_cols].copy()\n",
    "\n",
    "encoders = {}\n",
    "for col in cat_cols:\n",
    "    le = LabelEncoder()\n",
    "    df_encoded[col] = le.fit_transform(df[col])\n",
    "    encoders[col] = le \n",
    "\n",
    "print(df_encoded.head())"
   ]
  },
  {
   "cell_type": "code",
   "execution_count": 15,
   "id": "a78fdec1",
   "metadata": {},
   "outputs": [],
   "source": [
    "#df_decoded = df_encoded.copy()\n",
    "#for col in cat_cols:\n",
    "#   df_decoded[col] = encoders[col].inverse_transform(df_encoded[col])\n",
    "\n",
    "# print(df_decoded.head())"
   ]
  },
  {
   "cell_type": "code",
   "execution_count": null,
   "id": "cc5dbd01",
   "metadata": {},
   "outputs": [
    {
     "name": "stdout",
     "output_type": "stream",
     "text": [
      "                   Feature         VIF\n",
      "19         Addiction_Level  117.241661\n",
      "3              Sleep_Hours   48.181077\n",
      "1                      Age   45.138167\n",
      "2        Daily_Usage_Hours   31.905392\n",
      "4     Academic_Performance   27.224997\n",
      "13         Apps_Used_Daily   17.512984\n",
      "14    Time_on_Social_Media   16.757436\n",
      "18     Weekend_Usage_Hours   10.440719\n",
      "12    Phone_Checks_Per_Day   10.133650\n",
      "15          Time_on_Gaming    6.531985\n",
      "8         Depression_Level    5.491972\n",
      "11  Screen_Time_Before_Bed    5.316080\n",
      "7            Anxiety_Level    5.022884\n",
      "9              Self_Esteem    4.991205\n",
      "17    Family_Communication    4.937560\n",
      "0                       ID    4.768034\n",
      "16       Time_on_Education    3.940012\n",
      "5      Social_Interactions    3.754168\n",
      "6           Exercise_Hours    3.229323\n",
      "10        Parental_Control    2.044286\n"
     ]
    }
   ],
   "source": [
    "from statsmodels.stats.outliers_influence import variance_inflation_factor\n",
    "import pandas as pd\n",
    "\n",
    "\n",
    "X_num = numeric_cols\n",
    "\n",
    "\n",
    "vif_data = pd.DataFrame()\n",
    "vif_data['Feature'] = X_num.columns\n",
    "vif_data['VIF'] = [variance_inflation_factor(X_num.values, i)\n",
    "                   for i in range(X_num.shape[1])]\n",
    "\n",
    "print(vif_data.sort_values('VIF', ascending=False))\n"
   ]
  },
  {
   "cell_type": "code",
   "execution_count": 19,
   "id": "e974af3b",
   "metadata": {},
   "outputs": [],
   "source": [
    "import seaborn as sns\n",
    "import matplotlib.pyplot as plt"
   ]
  },
  {
   "cell_type": "code",
   "execution_count": null,
   "id": "09688217",
   "metadata": {},
   "outputs": [
    {
     "data": {
      "image/png": "[encoded data removed]",
      "text/plain": [
       "<Figure size 1200x800 with 1 Axes>"
      ]
     },
     "metadata": {},
     "output_type": "display_data"
    }
   ],
   "source": [
    "\n",
    "plt.figure(figsize=(12, 8))\n",
    "sns.barplot(data=vif_data.sort_values('VIF', ascending=False), x='VIF', y='Feature')\n",
    "plt.title('Variance Inflation Factor')\n",
    "plt.xlabel('VIF Score')\n",
    "plt.ylabel('Feature')\n",
    "plt.show()"
   ]
  }
 ],
 "metadata": {
  "kernelspec": {
   "display_name": "myenv",
   "language": "python",
   "name": "python3"
  },
  "language_info": {
   "codemirror_mode": {
    "name": "ipython",
    "version": 3
   },
   "file_extension": ".py",
   "mimetype": "text/x-python",
   "name": "python",
   "nbconvert_exporter": "python",
   "pygments_lexer": "ipython3",
   "version": "3.12.0"
  }
 },
 "nbformat": 4,
 "nbformat_minor": 5
}
